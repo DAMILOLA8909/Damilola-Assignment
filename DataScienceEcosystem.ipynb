{
 "cells": [
  {
   "cell_type": "markdown",
   "metadata": {},
   "source": [
    "# Data Science Tools and Ecosystem"
   ]
  },
  {
   "cell_type": "markdown",
   "metadata": {},
   "source": [
    "In this notebook, Data Science Tools and Ecosystem are summarized."
   ]
  },
  {
   "cell_type": "markdown",
   "metadata": {},
   "source": [
    "__Objectives:__<br>\n",
    "1. Popular languages that Data Scientist use\n",
    "2. Commonly used Liberaries used by Data Scientist\n",
    "3. Data Science tools\n",
    "4. Example of evaluating arithmetics expression in Python"
   ]
  },
  {
   "cell_type": "markdown",
   "metadata": {},
   "source": [
    "Some of the popular languages that Data Scientists use are:\n",
    "1. Python\n",
    "2. R Programming Languague\n",
    "3. SQL"
   ]
  },
  {
   "cell_type": "markdown",
   "metadata": {},
   "source": [
    "Some of the commonly used libraries used by Data Scientists include:\n",
    "1. Phython Libraries<br>\n",
    "    a. Pandas (data structures and Tools)<br>\n",
    "    b. Numpy (Arrays and matrics)<br>\n",
    "    c. Matplotlib (plots and Graphs)<br>\n",
    "    d. Seaborn (Plots:heat maps, time series, violin plots)<br>\n",
    "    e. Scikit-Learn (machine learning)<br>\n",
    "    f. TensorFlow (deep learning)<br>\n",
    "    g. Pytorch (deep learning)<br>\n",
    " 2. Scala libraries<br>\n",
    "     a. Vegas<br>\n",
    "     b. Big DL (deep Learning)<br>\n",
    "3. R-Libraries<br>\n",
    "     a. GgPlot<br>\n",
    "     b. TensorFlow<br>\n",
    " 4. Apache Spark (supports Python, R, Scalar and SQL)\n",
    "\n"
   ]
  },
  {
   "cell_type": "markdown",
   "metadata": {},
   "source": [
    "| __Data Science Tools__ |\n",
    "| ---------------------- |\n",
    "| Jupiter Notebooks      |\n",
    "| R Studio               |\n",
    "| Apache Zeppelin        |"
   ]
  },
  {
   "cell_type": "markdown",
   "metadata": {},
   "source": [
    "### Below are a few examples of evaluating arithmetic expressions in Python\n"
   ]
  },
  {
   "cell_type": "code",
   "execution_count": 7,
   "metadata": {
    "tags": []
   },
   "outputs": [
    {
     "data": {
      "text/plain": [
       "17"
      ]
     },
     "execution_count": 7,
     "metadata": {},
     "output_type": "execute_result"
    }
   ],
   "source": [
    "(3*4)+5\n",
    "# This a simple arithmetic expression to mutiply then add integer"
   ]
  },
  {
   "cell_type": "code",
   "execution_count": 25,
   "metadata": {
    "tags": []
   },
   "outputs": [
    {
     "name": "stdout",
     "output_type": "stream",
     "text": [
      "03:20\n"
     ]
    }
   ],
   "source": [
    "minutes = 200\n",
    "print(\"%02d:%02d\" % (divmod(minutes, 60)))\n",
    "# This will convert 200 minutes to hours by diving by 60"
   ]
  },
  {
   "cell_type": "markdown",
   "metadata": {},
   "source": [
    "## Author\n",
    "Ojo Damilola Soji"
   ]
  },
  {
   "cell_type": "code",
   "execution_count": null,
   "metadata": {},
   "outputs": [],
   "source": []
  }
 ],
 "metadata": {
  "kernelspec": {
   "display_name": "Python",
   "language": "python",
   "name": "conda-env-python-py"
  },
  "language_info": {
   "codemirror_mode": {
    "name": "ipython",
    "version": 3
   },
   "file_extension": ".py",
   "mimetype": "text/x-python",
   "name": "python",
   "nbconvert_exporter": "python",
   "pygments_lexer": "ipython3",
   "version": "3.7.12"
  }
 },
 "nbformat": 4,
 "nbformat_minor": 4
}
